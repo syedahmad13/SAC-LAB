{
 "cells": [
  {
   "cell_type": "code",
   "execution_count": 2,
   "id": "7b3f2206",
   "metadata": {},
   "outputs": [
    {
     "name": "stdout",
     "output_type": "stream",
     "text": [
      "Python 3.11.4\n"
     ]
    }
   ],
   "source": [
    "!python --version"
   ]
  },
  {
   "cell_type": "code",
   "execution_count": 3,
   "id": "9c96350d",
   "metadata": {},
   "outputs": [
    {
     "data": {
      "text/plain": [
       "4"
      ]
     },
     "execution_count": 3,
     "metadata": {},
     "output_type": "execute_result"
    }
   ],
   "source": [
    "3+1"
   ]
  },
  {
   "cell_type": "code",
   "execution_count": 4,
   "id": "f9c7003a",
   "metadata": {},
   "outputs": [
    {
     "ename": "TypeError",
     "evalue": "bad operand type for unary -: 'str'",
     "output_type": "error",
     "traceback": [
      "\u001b[1;31m---------------------------------------------------------------------------\u001b[0m",
      "\u001b[1;31mTypeError\u001b[0m                                 Traceback (most recent call last)",
      "Cell \u001b[1;32mIn[4], line 1\u001b[0m\n\u001b[1;32m----> 1\u001b[0m \u001b[38;5;28mprint\u001b[39m(\u001b[38;5;124m\"\u001b[39m\u001b[38;5;124mHi\u001b[39m\u001b[38;5;124m\"\u001b[39m,\u001b[38;5;124m\"\u001b[39m\u001b[38;5;124mHow are you doing?\u001b[39m\u001b[38;5;124m\"\u001b[39m,sep\u001b[38;5;241m=\u001b[39m\u001b[38;5;124m\"\u001b[39m\u001b[38;5;124m\"\u001b[39m\u001b[38;5;241m-\u001b[39m\u001b[38;5;241m-\u001b[39m\u001b[38;5;124m\"\u001b[39m\u001b[38;5;124m\"\u001b[39m)\n",
      "\u001b[1;31mTypeError\u001b[0m: bad operand type for unary -: 'str'"
     ]
    }
   ],
   "source": [
    "print(\"Hi\",\"How are you doing?\",sep=\"\"--\"\")"
   ]
  },
  {
   "cell_type": "code",
   "execution_count": 5,
   "id": "ad8cbb20",
   "metadata": {},
   "outputs": [
    {
     "name": "stdout",
     "output_type": "stream",
     "text": [
      "Hi-->How are you doing?\n"
     ]
    }
   ],
   "source": [
    "print(\"Hi\",\"How are you doing?\",sep='-->')"
   ]
  },
  {
   "cell_type": "code",
   "execution_count": 6,
   "id": "46bf3963",
   "metadata": {},
   "outputs": [
    {
     "name": "stdout",
     "output_type": "stream",
     "text": [
      "Hello World!"
     ]
    }
   ],
   "source": [
    "print(\"Hello World\",end=\"!\")"
   ]
  },
  {
   "cell_type": "code",
   "execution_count": 7,
   "id": "8f37d0b4",
   "metadata": {},
   "outputs": [
    {
     "name": "stdout",
     "output_type": "stream",
     "text": [
      "['False', 'None', 'True', 'and', 'as', 'assert', 'async', 'await', 'break', 'class', 'continue', 'def', 'del', 'elif', 'else', 'except', 'finally', 'for', 'from', 'global', 'if', 'import', 'in', 'is', 'lambda', 'nonlocal', 'not', 'or', 'pass', 'raise', 'return', 'try', 'while', 'with', 'yield']\n",
      "35\n"
     ]
    }
   ],
   "source": [
    "import keyword\n",
    "print(keyword.kwlist)\n",
    "print(len(keyword.kwlist))"
   ]
  },
  {
   "cell_type": "code",
   "execution_count": 8,
   "id": "25f7c3be",
   "metadata": {},
   "outputs": [
    {
     "name": "stdout",
     "output_type": "stream",
     "text": [
      "python\n"
     ]
    }
   ],
   "source": [
    "x = 3 \n",
    "x = \"python\"\n",
    "print(x)"
   ]
  },
  {
   "cell_type": "code",
   "execution_count": 9,
   "id": "46e15b2a",
   "metadata": {},
   "outputs": [],
   "source": [
    "myvar = \"PYTHON\"\n",
    "my_var= \"PYTHON\"\n",
    "_my_var= \"PYTHON\"\n",
    "myVar=\"PYTHON\"\n",
    "MYVAR=\"PYTHON\"\n",
    "myvar2=\"PYTHON\""
   ]
  },
  {
   "cell_type": "code",
   "execution_count": 10,
   "id": "28be4530",
   "metadata": {},
   "outputs": [
    {
     "ename": "SyntaxError",
     "evalue": "invalid decimal literal (1948746534.py, line 3)",
     "output_type": "error",
     "traceback": [
      "\u001b[1;36m  Cell \u001b[1;32mIn[10], line 3\u001b[1;36m\u001b[0m\n\u001b[1;33m    2myvar = \"PYTHON\"\u001b[0m\n\u001b[1;37m    ^\u001b[0m\n\u001b[1;31mSyntaxError\u001b[0m\u001b[1;31m:\u001b[0m invalid decimal literal\n"
     ]
    }
   ],
   "source": [
    "#ILLEGAL VARIABLE NAMES:\n",
    "\n",
    "2myvar = \"PYTHON\"\n",
    "my-var = \"PYTHON\"\n",
    "my var = \"PYTHON\""
   ]
  },
  {
   "cell_type": "code",
   "execution_count": 11,
   "id": "4f2e1bbf",
   "metadata": {},
   "outputs": [
    {
     "ename": "SyntaxError",
     "evalue": "invalid decimal literal (324647108.py, line 3)",
     "output_type": "error",
     "traceback": [
      "\u001b[1;36m  Cell \u001b[1;32mIn[11], line 3\u001b[1;36m\u001b[0m\n\u001b[1;33m    2myvar = \"PYTHON\"\u001b[0m\n\u001b[1;37m    ^\u001b[0m\n\u001b[1;31mSyntaxError\u001b[0m\u001b[1;31m:\u001b[0m invalid decimal literal\n"
     ]
    }
   ],
   "source": [
    "#ILLEGAL VARIABLE NAMES:\n",
    "\n",
    "2myvar = \"PYTHON\"\n",
    "my-var = \"PYTHON\"\n",
    "my var = \"PYTHON\"\n",
    "print(2myvar)\n",
    "print(my-var)\n",
    "print(my var)"
   ]
  },
  {
   "cell_type": "code",
   "execution_count": 12,
   "id": "56070952",
   "metadata": {},
   "outputs": [
    {
     "name": "stdout",
     "output_type": "stream",
     "text": [
      "<class 'int'>\n",
      "<class 'str'>\n",
      "<class 'float'>\n"
     ]
    }
   ],
   "source": [
    "marks=22\n",
    "grade=\"5\"\n",
    "attend_perc=76.5\n",
    "print(type(marks))\n",
    "print(type(grade))\n",
    "print(type(attend_perc))"
   ]
  },
  {
   "cell_type": "code",
   "execution_count": 13,
   "id": "a0a23c55",
   "metadata": {},
   "outputs": [
    {
     "name": "stdout",
     "output_type": "stream",
     "text": [
      "<class 'str'>\n",
      "3\n",
      "3.0\n"
     ]
    }
   ],
   "source": [
    "x = str(3)\n",
    "y = int(3)\n",
    "z = float(3)\n",
    "print(type(x))\n",
    "print(y)\n",
    "print(z)"
   ]
  },
  {
   "cell_type": "code",
   "execution_count": null,
   "id": "d844d7c7",
   "metadata": {},
   "outputs": [],
   "source": []
  }
 ],
 "metadata": {
  "kernelspec": {
   "display_name": "Python 3 (ipykernel)",
   "language": "python",
   "name": "python3"
  },
  "language_info": {
   "codemirror_mode": {
    "name": "ipython",
    "version": 3
   },
   "file_extension": ".py",
   "mimetype": "text/x-python",
   "name": "python",
   "nbconvert_exporter": "python",
   "pygments_lexer": "ipython3",
   "version": "3.11.4"
  }
 },
 "nbformat": 4,
 "nbformat_minor": 5
}
