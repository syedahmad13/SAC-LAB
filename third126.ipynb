{
 "cells": [
  {
   "cell_type": "code",
   "execution_count": 13,
   "id": "2a628dbc",
   "metadata": {},
   "outputs": [
    {
     "name": "stdout",
     "output_type": "stream",
     "text": [
      "Enter the radius of the circle: 3\n",
      "The Area of circle is: 28.305\n"
     ]
    }
   ],
   "source": [
    "radius = int(input(\"Enter the radius of the circle: \"))\n",
    "area_of_circle = 3.145*radius*radius\n",
    "print(f\"The Area of circle is: {area_of_circle}\")"
   ]
  },
  {
   "cell_type": "code",
   "execution_count": 12,
   "id": "d516062e",
   "metadata": {},
   "outputs": [
    {
     "name": "stdout",
     "output_type": "stream",
     "text": [
      "Enter the radius of circle: 3\n",
      "The Area of circle is: 28.27\n"
     ]
    }
   ],
   "source": [
    "import math \n",
    "radius = int(input(\"Enter the radius of circle: \"))\n",
    "area_of_circle = math.pi*radius*radius\n",
    "print(f\"The Area of circle is: {area_of_circle:.2f}\")"
   ]
  },
  {
   "cell_type": "code",
   "execution_count": 17,
   "id": "59798a3b",
   "metadata": {},
   "outputs": [
    {
     "name": "stdout",
     "output_type": "stream",
     "text": [
      "Enter the number of days: 400\n",
      "Years = 1, Weeks = 5, Days = 0\n"
     ]
    }
   ],
   "source": [
    "number_of_days = int(input(\"Enter the number of days: \"))\n",
    "number_of_years = int(number_of_days/365)\n",
    "number_of_weeks = int(number_of_days % 365 / 7)\n",
    "remaining_number_of_days = int(number_of_days % 365 % 7)\n",
    "print(f\"Years = {number_of_years}, Weeks = {number_of_weeks}, Days = {remaining_number_of_days}\")"
   ]
  },
  {
   "cell_type": "code",
   "execution_count": 21,
   "id": "c69be6a3",
   "metadata": {},
   "outputs": [
    {
     "name": "stdout",
     "output_type": "stream",
     "text": [
      "Enter your birth year: 2006\n",
      "You are 19 years old.\n"
     ]
    }
   ],
   "source": [
    "birth_year = int(input(\"Enter your birth year: \"))\n",
    "current_year = 2025\n",
    "age = (current_year - birth_year)\n",
    "print(f\"You are {age} years old.\")"
   ]
  },
  {
   "cell_type": "code",
   "execution_count": 28,
   "id": "0b98a824",
   "metadata": {},
   "outputs": [
    {
     "name": "stdout",
     "output_type": "stream",
     "text": [
      "Enter the total marks: 600\n",
      "Enter the marks obtained: 525.3\n",
      "Exact percentage:87.55%\n",
      "Whole percentage shown on report:87.55%\n"
     ]
    }
   ],
   "source": [
    "total_marks = int(input(\"Enter the total marks: \"))\n",
    "marks_obtained = float(input(\"Enter the marks obtained: \"))\n",
    "percentage = (marks_obtained / total_marks) * 100\n",
    "whole_percentage = float(percentage)\n",
    "\n",
    "print(f\"Exact percentage:{percentage}%\")\n",
    "print(f\"Whole percentage shown on report:{whole_percentage}%\")"
   ]
  },
  {
   "cell_type": "code",
   "execution_count": 35,
   "id": "81455dc5",
   "metadata": {},
   "outputs": [
    {
     "name": "stdout",
     "output_type": "stream",
     "text": [
      "Enter your age: 19\n",
      "I am 19 years old\n"
     ]
    }
   ],
   "source": [
    "age = int(input(\"Enter your age: \"))\n",
    "print(\"I am \" +str(age)+ \" years old\")"
   ]
  },
  {
   "cell_type": "code",
   "execution_count": 39,
   "id": "cc066f24",
   "metadata": {},
   "outputs": [
    {
     "name": "stdout",
     "output_type": "stream",
     "text": [
      "Enter an integer between 0 and 255: 65\n",
      "The ASCII character for 65 is: A\n"
     ]
    }
   ],
   "source": [
    "num = int(input(\"Enter an integer between 0 and 255: \"))\n",
    "char = chr(num)\n",
    "print(f\"The ASCII character for {num} is: {char}\")"
   ]
  },
  {
   "cell_type": "code",
   "execution_count": 43,
   "id": "1ce90097",
   "metadata": {},
   "outputs": [
    {
     "name": "stdout",
     "output_type": "stream",
     "text": [
      "Complex number (real+imaginary): (7+4j)\n"
     ]
    }
   ],
   "source": [
    "c1 = complex (7,4)\n",
    "print(\"Complex number (real+imaginary):\",c1)"
   ]
  },
  {
   "cell_type": "code",
   "execution_count": 44,
   "id": "2a1c3fdf",
   "metadata": {},
   "outputs": [
    {
     "name": "stdout",
     "output_type": "stream",
     "text": [
      "Complex number from string: (5+6j)\n"
     ]
    }
   ],
   "source": [
    "c2 = complex (\"5+6j\")\n",
    "print(\"Complex number from string:\", c2)"
   ]
  },
  {
   "cell_type": "code",
   "execution_count": 46,
   "id": "f51fb2a8",
   "metadata": {},
   "outputs": [
    {
     "name": "stdout",
     "output_type": "stream",
     "text": [
      "Complex with only real part: (7+0j)\n"
     ]
    }
   ],
   "source": [
    "c3 = complex (7)\n",
    "print(\"Complex with only real part:\", c3)"
   ]
  },
  {
   "cell_type": "code",
   "execution_count": 47,
   "id": "e20c878c",
   "metadata": {},
   "outputs": [
    {
     "name": "stdout",
     "output_type": "stream",
     "text": [
      "Complex number from string: 0j\n"
     ]
    }
   ],
   "source": [
    "c4 = complex()\n",
    "print(\"Complex number with no arguments:\", c4)"
   ]
  },
  {
   "cell_type": "code",
   "execution_count": 48,
   "id": "dd4669b6",
   "metadata": {},
   "outputs": [
    {
     "name": "stdout",
     "output_type": "stream",
     "text": [
      "Complex number from floats: (2.5+3.8j)\n"
     ]
    }
   ],
   "source": [
    "c5 = complex(2.5,3.8)\n",
    "print(\"Complex number from floats:\", c5)"
   ]
  },
  {
   "cell_type": "code",
   "execution_count": 54,
   "id": "45ceda85",
   "metadata": {},
   "outputs": [
    {
     "name": "stdout",
     "output_type": "stream",
     "text": [
      "52\n",
      "90\n",
      "35\n",
      "Unicode code point for integer value of 4 is: 52\n",
      "Unicode code point for alphabet 'Z' is: 90\n",
      "Unicode code point for character '#' is: 35\n"
     ]
    }
   ],
   "source": [
    "unicode_for_integer = ord('4')\n",
    "unicode_for_alphabet = ord('Z')\n",
    "unicode_for_character = ord('#')\n",
    "print(unicode_for_integer)\n",
    "print(unicode_for_alphabet)\n",
    "print(unicode_for_character)\n",
    "\n",
    "print(f\"Unicode code point for integer value of 4 is: {unicode_for_integer}\")\n",
    "print(f\"Unicode code point for alphabet 'Z' is: {unicode_for_alphabet}\")\n",
    "print(f\"Unicode code point for character '#' is: {unicode_for_character}\")\n"
   ]
  },
  {
   "cell_type": "code",
   "execution_count": 55,
   "id": "e4944faa",
   "metadata": {},
   "outputs": [
    {
     "name": "stdout",
     "output_type": "stream",
     "text": [
      "2200262445488\n",
      "0x20049dc89b0\n"
     ]
    }
   ],
   "source": [
    "id_val = id(\"Hello\")\n",
    "print(id_val)\n",
    "print(hex(id_val))"
   ]
  },
  {
   "cell_type": "code",
   "execution_count": 60,
   "id": "befc9b2e",
   "metadata": {},
   "outputs": [
    {
     "name": "stdout",
     "output_type": "stream",
     "text": [
      "1024 in hexadecimal is 0x400\n"
     ]
    }
   ],
   "source": [
    "a = 1024\n",
    "print(f\"{a} in hexadecimal is {hex(a)}\")"
   ]
  },
  {
   "cell_type": "code",
   "execution_count": 61,
   "id": "011a26a6",
   "metadata": {},
   "outputs": [
    {
     "name": "stdout",
     "output_type": "stream",
     "text": [
      "0o31\n"
     ]
    }
   ],
   "source": [
    "num = 25\n",
    "print(oct(num))"
   ]
  },
  {
   "cell_type": "code",
   "execution_count": null,
   "id": "c4ac0283",
   "metadata": {},
   "outputs": [],
   "source": []
  }
 ],
 "metadata": {
  "kernelspec": {
   "display_name": "Python 3 (ipykernel)",
   "language": "python",
   "name": "python3"
  },
  "language_info": {
   "codemirror_mode": {
    "name": "ipython",
    "version": 3
   },
   "file_extension": ".py",
   "mimetype": "text/x-python",
   "name": "python",
   "nbconvert_exporter": "python",
   "pygments_lexer": "ipython3",
   "version": "3.11.4"
  }
 },
 "nbformat": 4,
 "nbformat_minor": 5
}
