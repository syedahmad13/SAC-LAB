{
 "cells": [
  {
   "cell_type": "code",
   "execution_count": 1,
   "id": "cdc37914",
   "metadata": {},
   "outputs": [
    {
     "name": "stdout",
     "output_type": "stream",
     "text": [
      "awesome\n",
      "good\n",
      "<class 'str'>\n",
      "<class 'str'>\n",
      "<class 'str'>\n"
     ]
    }
   ],
   "source": [
    "x=\"awesome\"\n",
    "print(x)\n",
    "y=\"good\"\n",
    "print(y)\n",
    "z=\"a\"\n",
    "print(type(x))\n",
    "print(type(y))\n",
    "print(type(z))"
   ]
  },
  {
   "cell_type": "code",
   "execution_count": 2,
   "id": "1fe04c47",
   "metadata": {},
   "outputs": [
    {
     "name": "stdout",
     "output_type": "stream",
     "text": [
      "list\n",
      "4\n"
     ]
    }
   ],
   "source": [
    "a=4\n",
    "A=\"list\"\n",
    "print(A)\n",
    "print(a)"
   ]
  },
  {
   "cell_type": "code",
   "execution_count": 3,
   "id": "c304b0b2",
   "metadata": {},
   "outputs": [
    {
     "name": "stdout",
     "output_type": "stream",
     "text": [
      "SAC\n",
      "DBMS\n",
      "SEC-IOT\n"
     ]
    }
   ],
   "source": [
    "x , y, z = \"SAC\", \"DBMS\", \"SEC-IOT\"\n",
    "print(x)\n",
    "print(y)\n",
    "print(z)"
   ]
  },
  {
   "cell_type": "code",
   "execution_count": 5,
   "id": "c5d6c139",
   "metadata": {},
   "outputs": [
    {
     "name": "stdout",
     "output_type": "stream",
     "text": [
      "PYTHON\n",
      "PYTHON\n",
      "PYTHON\n"
     ]
    }
   ],
   "source": [
    "x = y = z = \"PYTHON\"\n",
    "print(x)\n",
    "print(y)\n",
    "print(z)"
   ]
  },
  {
   "cell_type": "code",
   "execution_count": 7,
   "id": "9f20fc0a",
   "metadata": {},
   "outputs": [
    {
     "name": "stdout",
     "output_type": "stream",
     "text": [
      "PYTHON IS AWESOME\n"
     ]
    }
   ],
   "source": [
    "x = \"PYTHON\"\n",
    "y = \"IS\"\n",
    "z = \"AWESOME\"\n",
    "print(x,y,z)"
   ]
  },
  {
   "cell_type": "code",
   "execution_count": 8,
   "id": "3e9da8e3",
   "metadata": {},
   "outputs": [
    {
     "name": "stdout",
     "output_type": "stream",
     "text": [
      "<class 'int'>\n"
     ]
    }
   ],
   "source": [
    "x = 5\n",
    "print(type(x))"
   ]
  },
  {
   "cell_type": "code",
   "execution_count": 10,
   "id": "fe015cc7",
   "metadata": {},
   "outputs": [
    {
     "name": "stdout",
     "output_type": "stream",
     "text": [
      "<class 'float'>\n"
     ]
    }
   ],
   "source": [
    "y = 5.5\n",
    "print(type(y))"
   ]
  },
  {
   "cell_type": "code",
   "execution_count": 11,
   "id": "fa2cd4e1",
   "metadata": {},
   "outputs": [
    {
     "name": "stdout",
     "output_type": "stream",
     "text": [
      "<class 'complex'>\n"
     ]
    }
   ],
   "source": [
    "w = 2+3j\n",
    "print(type(w))"
   ]
  },
  {
   "cell_type": "code",
   "execution_count": 12,
   "id": "c6002043",
   "metadata": {},
   "outputs": [
    {
     "name": "stdout",
     "output_type": "stream",
     "text": [
      "<class 'bool'>\n"
     ]
    }
   ],
   "source": [
    "is_student = True\n",
    "print(type(is_student))"
   ]
  },
  {
   "cell_type": "code",
   "execution_count": 13,
   "id": "5d1c5643",
   "metadata": {},
   "outputs": [
    {
     "name": "stdout",
     "output_type": "stream",
     "text": [
      "<class 'bool'>\n"
     ]
    }
   ],
   "source": [
    "is_emp = False\n",
    "print(type(is_emp))"
   ]
  },
  {
   "cell_type": "code",
   "execution_count": 14,
   "id": "b630ecd7",
   "metadata": {},
   "outputs": [
    {
     "name": "stdout",
     "output_type": "stream",
     "text": [
      "<class 'str'>\n",
      "Hi there\n",
      "how are you?\n"
     ]
    }
   ],
   "source": [
    "subject_name = \"Statistical Analytics and Computing using Python\"\n",
    "print(type(subject_name))\n",
    "x = \"\"\"Hi there\n",
    "how are you?\"\"\"\n",
    "print(x)"
   ]
  },
  {
   "cell_type": "code",
   "execution_count": 15,
   "id": "ee54d77b",
   "metadata": {},
   "outputs": [
    {
     "name": "stdout",
     "output_type": "stream",
     "text": [
      "<class 'str'>\n"
     ]
    }
   ],
   "source": [
    "subject_name = 'SAC using Python'\n",
    "print(type(subject_name))"
   ]
  },
  {
   "cell_type": "code",
   "execution_count": 16,
   "id": "86bdf26c",
   "metadata": {},
   "outputs": [
    {
     "name": "stdout",
     "output_type": "stream",
     "text": [
      "<class 'str'>\n",
      "Statistical Analytics and Computing using Python Lab\n",
      "needs regouros practice\n"
     ]
    }
   ],
   "source": [
    "subject_name = \"\"\"Statistical Analytics and Computing using Python Lab\n",
    "needs regouros practice\"\"\"\n",
    "print(type(subject_name))\n",
    "print(subject_name)"
   ]
  },
  {
   "cell_type": "code",
   "execution_count": 17,
   "id": "2d3ab0a5",
   "metadata": {},
   "outputs": [
    {
     "name": "stdout",
     "output_type": "stream",
     "text": [
      "<class 'NoneType'>\n"
     ]
    }
   ],
   "source": [
    "marks = None\n",
    "print(type(marks))"
   ]
  },
  {
   "cell_type": "code",
   "execution_count": 18,
   "id": "5e919ca2",
   "metadata": {},
   "outputs": [
    {
     "name": "stdout",
     "output_type": "stream",
     "text": [
      "Enter Your Name: Syed Ahmadullah\n",
      "WELCOME Syed Ahmadullah\n"
     ]
    }
   ],
   "source": [
    "'''input() function is used to gather data from the user.\n",
    "The syntax for the input function is,\n",
    "variable_name = input([prompt])'''\n",
    "name = input(\"Enter Your Name: \")\n",
    "print(\"WELCOME\", name)"
   ]
  },
  {
   "cell_type": "code",
   "execution_count": 20,
   "id": "ee10ecdf",
   "metadata": {},
   "outputs": [
    {
     "name": "stdout",
     "output_type": "stream",
     "text": [
      "Enter the value of a:10\n",
      "Enter the value of b:20\n",
      "30\n"
     ]
    }
   ],
   "source": [
    "a = int(input(\"Enter the value of a:\"))\n",
    "b = int(input(\"Enter the value of b:\"))\n",
    "\n",
    "print(a+b)"
   ]
  },
  {
   "cell_type": "code",
   "execution_count": 24,
   "id": "e14e6705",
   "metadata": {},
   "outputs": [
    {
     "name": "stdout",
     "output_type": "stream",
     "text": [
      "What is your passion:AIML Expert\n",
      "Enter your name:Syed Ahmad\n",
      "Hi I am Syed Ahmad and my passion is to become an AIML Expert\n"
     ]
    }
   ],
   "source": [
    "passion = input(\"What is your passion:\")\n",
    "name = input(\"Enter your name:\")\n",
    "print(\"Hi I am {0} and my passion is to become an {1}\"\n",
    "      .format(name,passion))"
   ]
  },
  {
   "cell_type": "code",
   "execution_count": 26,
   "id": "dcce4881",
   "metadata": {},
   "outputs": [
    {
     "name": "stdout",
     "output_type": "stream",
     "text": [
      "Enter the radius of the circle30\n",
      "The area of cirlce is 2828.25\n"
     ]
    }
   ],
   "source": [
    "radius = int(input(\"Enter the radius of the circle\"))\n",
    "area_of_circle = 3.1425 * radius * radius\n",
    "print(f\"The area of cirlce is {area_of_circle}\")"
   ]
  },
  {
   "cell_type": "code",
   "execution_count": null,
   "id": "d06c0adf",
   "metadata": {},
   "outputs": [],
   "source": [
    "|"
   ]
  }
 ],
 "metadata": {
  "kernelspec": {
   "display_name": "Python 3 (ipykernel)",
   "language": "python",
   "name": "python3"
  },
  "language_info": {
   "codemirror_mode": {
    "name": "ipython",
    "version": 3
   },
   "file_extension": ".py",
   "mimetype": "text/x-python",
   "name": "python",
   "nbconvert_exporter": "python",
   "pygments_lexer": "ipython3",
   "version": "3.11.4"
  }
 },
 "nbformat": 4,
 "nbformat_minor": 5
}
